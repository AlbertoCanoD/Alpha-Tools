{
  "cells": [
    {
      "attachments": {},
      "cell_type": "markdown",
      "metadata": {
        "id": "zeRrWtvPQDzA"
      },
      "source": [
        "# Selección aleatoria de Jefe de día\n",
        "(https://github.com/AlbertoCanoD/Alpha-Tools/tree/main/Jefe-Dia)"
      ]
    },
    {
      "cell_type": "markdown",
      "metadata": {
        "id": "s_WFabo3QYv3"
      },
      "source": [
        "Se puede cambiar la lista de responsables."
      ]
    },
    {
      "cell_type": "code",
      "execution_count": 1,
      "metadata": {
        "id": "gpy7MFkmQA_V"
      },
      "outputs": [],
      "source": [
        "import random\n",
        "\n",
        "# Lista de responsables\n",
        "responsables = [\"Alberto\", \"Dani.R\", \"Dani.J\", \"Mari\", \"Mario\", \"Maria.D\", \"Alex.H\",\n",
        "                \"Fernando\", \"Ema\", \"Clara\", \"Natalia\", \"Almudena\", \"Espe\", \"Raquel\", \"Selene\", \"Sonia\"]"
      ]
    },
    {
      "cell_type": "markdown",
      "metadata": {
        "id": "3rDpzNfFQEUP"
      },
      "source": [
        "Se seleccionan los días que va a durar el campamento."
      ]
    },
    {
      "cell_type": "code",
      "execution_count": 2,
      "metadata": {
        "colab": {
          "base_uri": "https://localhost:8080/"
        },
        "id": "yHB-DldlQHs3",
        "outputId": "921f50fa-64fb-4850-f0b6-d0503625cc01"
      },
      "outputs": [
        {
          "name": "stdout",
          "output_type": "stream",
          "text": [
            "Número de Días del campamento: 3\n"
          ]
        }
      ],
      "source": [
        "# Introduccion de días de campamento\n",
        "dias = input(\"Número de Días del campamento: \")"
      ]
    },
    {
      "cell_type": "markdown",
      "metadata": {
        "id": "wotOppwnQjbO"
      },
      "source": [
        "Con los días de duración y la lista de responsables se elige aleatoriamente un jefe de día."
      ]
    },
    {
      "cell_type": "code",
      "execution_count": 3,
      "metadata": {
        "colab": {
          "base_uri": "https://localhost:8080/"
        },
        "id": "I5uASvPoQFTH",
        "outputId": "560e782a-2cc5-4af5-dab9-5d7f34dbc818"
      },
      "outputs": [
        {
          "name": "stdout",
          "output_type": "stream",
          "text": [
            "Dia 1, Jefe de Día: Raquel\n",
            "Dia 2, Jefe de Día: Ema\n",
            "Dia 3, Jefe de Día: Sonia\n"
          ]
        }
      ],
      "source": [
        "# Se hace una lista con responsables sin repeticion\n",
        "eleccion = random.sample(responsables, int(dias))\n",
        "\n",
        "# Sin repeticion de responsables\n",
        "for i in range(int(dias)):\n",
        "    print(f\"Dia {i + 1}, Jefe de Día: \" + eleccion[i])"
      ]
    }
  ],
  "metadata": {
    "colab": {
      "provenance": []
    },
    "kernelspec": {
      "display_name": "Python 3",
      "name": "python3"
    },
    "language_info": {
      "name": "python"
    }
  },
  "nbformat": 4,
  "nbformat_minor": 0
}
